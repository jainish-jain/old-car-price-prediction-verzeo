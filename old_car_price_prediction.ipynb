{
  "cells": [
    {
      "cell_type": "code",
      "metadata": {
        "id": "506Mae1wvEqU",
        "colab_type": "code",
        "colab": {
          "base_uri": "https://localhost:8080/",
          "height": 75
        },
        "outputId": "a38e26f2-ee38-4071-b871-f74b4e66bd60"
      },
      "source": [
        "import pandas as pd\n",
        "import numpy as np\n",
        "import matplotlib.pyplot as plt\n",
        "import seaborn as sns\n",
        "from sklearn.preprocessing import OrdinalEncoder\n",
        "from sklearn.linear_model import LinearRegression\n",
        "from sklearn.model_selection import train_test_split"
      ],
      "execution_count": null,
      "outputs": []
    },
    {
      "cell_type": "code",
      "metadata": {
        "id": "J90Osmywws2N",
        "colab_type": "code",
        "colab": {
          "base_uri": "https://localhost:8080/",
          "height": 394
        },
        "outputId": "bc95bef8-ca76-4cfc-c076-cc9a4518f4f5"
      },
      "source": [
        "dftrain = pd.read_excel('/home/jainish/Downloads/Data_Train (1).xlsx')\n",
        "df_train=dftrain.copy()\n",
        "dftrain.head()"
      ],
      "execution_count": null,
      "outputs": []
    },
    {
      "cell_type": "markdown",
      "metadata": {
        "id": "c_xmnbiSGC9t",
        "colab_type": "text"
      },
      "source": [
        "Columns present in the dataframe."
      ]
    },
    {
      "cell_type": "code",
      "metadata": {
        "id": "crwa5E5sDjXf",
        "colab_type": "code",
        "colab": {
          "base_uri": "https://localhost:8080/",
          "height": 93
        },
        "outputId": "321dbc6f-93d1-4019-e154-57986d6d0d71"
      },
      "source": [
        "dftrain.columns"
      ],
      "execution_count": null,
      "outputs": []
    },
    {
      "cell_type": "markdown",
      "metadata": {
        "id": "u6TXhLzMGWJ4",
        "colab_type": "text"
      },
      "source": [
        "Number of rows and columns in the dataframe."
      ]
    },
    {
      "cell_type": "code",
      "metadata": {
        "id": "am8C2Cd_GbIH",
        "colab_type": "code",
        "colab": {
          "base_uri": "https://localhost:8080/",
          "height": 36
        },
        "outputId": "faf9ece2-0280-47ca-af3f-e03ce829ef00"
      },
      "source": [
        "dftrain.shape"
      ],
      "execution_count": null,
      "outputs": []
    },
    {
      "cell_type": "markdown",
      "metadata": {
        "id": "aa3FJXFRG9Qd",
        "colab_type": "text"
      },
      "source": [
        "So, the dataframe train has 6019 rows and 12 columns.\n",
        "\n",
        "Now, Let's divide the dataframe into two dataframes :\n",
        "numF - containing all the numerical features\n",
        "catF - containing all the categorial features"
      ]
    },
    {
      "cell_type": "code",
      "metadata": {
        "id": "hKo5Kif5Gd7M",
        "colab_type": "code",
        "colab": {
          "base_uri": "https://localhost:8080/",
          "height": 204
        },
        "outputId": "9c52467c-2991-4b6a-aba8-f6840ce97f77"
      },
      "source": [
        "numF=dftrain.select_dtypes(include=[np.number])\n",
        "numF.head()"
      ],
      "execution_count": null,
      "outputs": []
    },
    {
      "cell_type": "code",
      "metadata": {
        "id": "EhR72LOKHCUv",
        "colab_type": "code",
        "colab": {
          "base_uri": "https://localhost:8080/",
          "height": 204
        },
        "outputId": "8b671280-fee7-43bb-946d-08c0824a7985"
      },
      "source": [
        "catF=dftrain.select_dtypes(include=[np.object])\n",
        "catF.head()"
      ],
      "execution_count": null,
      "outputs": []
    },
    {
      "cell_type": "markdown",
      "metadata": {
        "id": "gFBXwz9NHN0j",
        "colab_type": "text"
      },
      "source": [
        "**Categorial Data Analysis**\n",
        "\n",
        "Now, First we'll analyse the categorial data. In the categorial dataframe, first let's analyse Name.\n",
        "\n",
        "Since the Name of the car would not help in estimating the price but the Company name would. So, we'll extract the company name from the name of the car."
      ]
    },
    {
      "cell_type": "code",
      "metadata": {
        "id": "5diuCtqUHKNV",
        "colab_type": "code",
        "colab": {
          "base_uri": "https://localhost:8080/",
          "height": 36
        },
        "outputId": "acc1fcbc-3e11-45f9-c9a1-e572d96c934c"
      },
      "source": [
        "dftrain['Name'].unique().size"
      ],
      "execution_count": null,
      "outputs": []
    },
    {
      "cell_type": "markdown",
      "metadata": {
        "id": "q0Y5NdpuHi0w",
        "colab_type": "text"
      },
      "source": [
        "So, there are 1876 unique names in the dataframe.\n",
        "\n",
        "Now, we'll split the Name column into sub-strings and pick the first substring as the name of the company since all car names start with their company names."
      ]
    },
    {
      "cell_type": "code",
      "metadata": {
        "id": "qk7kxCClHe7a",
        "colab_type": "code",
        "colab": {
          "base_uri": "https://localhost:8080/",
          "height": 394
        },
        "outputId": "86f79412-b0a8-41e7-87e7-e132e3494ac3"
      },
      "source": [
        "t=dftrain['Name'].str.split()\n",
        "compName=t.str[0]\n",
        "dftrain['Comp_Name']=pd.Series(compName)\n",
        "dftrain.head()\n"
      ],
      "execution_count": null,
      "outputs": []
    },
    {
      "cell_type": "markdown",
      "metadata": {
        "id": "Z6aEpf_hHuYO",
        "colab_type": "text"
      },
      "source": [
        "Let's check whether we have got all the names correct."
      ]
    },
    {
      "cell_type": "code",
      "metadata": {
        "id": "XLnOVo7DHpDM",
        "colab_type": "code",
        "colab": {
          "base_uri": "https://localhost:8080/",
          "height": 131
        },
        "outputId": "d4941b52-12bf-483c-e769-a7600ad69845"
      },
      "source": [
        "catF.insert(column='Comp_Name',value=compName,loc=1)\n",
        "catF['Comp_Name'].unique()"
      ],
      "execution_count": null,
      "outputs": []
    },
    {
      "cell_type": "markdown",
      "metadata": {
        "id": "MUpy2xDfH01Z",
        "colab_type": "text"
      },
      "source": [
        "Observations:\n",
        "\n",
        "\n",
        "\n",
        "1.   We don't know company names like Land, Force and Mini.\n",
        "2.   Company names like Isuzu appear twice.\n",
        "\n",
        "So, Let's fix that."
      ]
    },
    {
      "cell_type": "code",
      "metadata": {
        "id": "BOmoaTRrHy2p",
        "colab_type": "code",
        "colab": {
          "base_uri": "https://localhost:8080/",
          "height": 55
        },
        "outputId": "38b7b1b6-6bcc-4939-90b5-15b380188257"
      },
      "source": [
        "cn=catF['Comp_Name'].values\n",
        "cn"
      ],
      "execution_count": null,
      "outputs": []
    },
    {
      "cell_type": "code",
      "metadata": {
        "id": "6FZ5Dv9_ICLF",
        "colab_type": "code",
        "colab": {
          "base_uri": "https://localhost:8080/",
          "height": 1000
        },
        "outputId": "04dbba5f-ce6e-41ca-96ac-d92fa8827dfe"
      },
      "source": [
        "dftrain.loc[dftrain['Comp_Name']=='Land']"
      ],
      "execution_count": null,
      "outputs": []
    },
    {
      "cell_type": "code",
      "metadata": {
        "id": "cK9wNW6IIFRo",
        "colab_type": "code",
        "colab": {}
      },
      "source": [
        "for i in range(dftrain.shape[0]):\n",
        "  if (cn[i]=='Land'):\n",
        "    cn[i]='Land Rover'\n",
        "  if (cn[i]=='ISUZU'):\n",
        "    cn[i]='Isuzu'\n",
        "  if (cn[i]=='Mini'):\n",
        "    cn[i]='Mini Cooper'\n",
        "  if (cn[i]=='Force'):\n",
        "    cn[i]='Force One LX'"
      ],
      "execution_count": null,
      "outputs": []
    },
    {
      "cell_type": "code",
      "metadata": {
        "id": "Kz17mdPYJvcz",
        "colab_type": "code",
        "colab": {}
      },
      "source": [
        "dftrain=dftrain.drop('Comp_Name',axis=1)\n",
        "catF=catF.drop('Comp_Name',axis=1)"
      ],
      "execution_count": null,
      "outputs": []
    },
    {
      "cell_type": "code",
      "metadata": {
        "id": "iSc1G8IOMH3v",
        "colab_type": "code",
        "colab": {}
      },
      "source": [
        "dftrain.insert(column='Comp_Name',value=cn,loc=1)\n",
        "catF.insert(column='Comp_Name',value=cn,loc=1)"
      ],
      "execution_count": null,
      "outputs": []
    },
    {
      "cell_type": "markdown",
      "metadata": {
        "id": "LBJpV92KJ0SF",
        "colab_type": "text"
      },
      "source": [
        "Now that we have extracted the Company names , let's analyse it."
      ]
    },
    {
      "cell_type": "code",
      "metadata": {
        "id": "M1UiQnZAJ6NZ",
        "colab_type": "code",
        "colab": {
          "base_uri": "https://localhost:8080/",
          "height": 350
        },
        "outputId": "c7f14668-fe86-43c5-f122-1c1d3a870fd8"
      },
      "source": [
        "dftrain['Comp_Name'].value_counts().plot(kind='bar')"
      ],
      "execution_count": null,
      "outputs": []
    },
    {
      "cell_type": "code",
      "metadata": {
        "id": "4GFjz1y6L0Yn",
        "colab_type": "code",
        "colab": {
          "base_uri": "https://localhost:8080/",
          "height": 274
        },
        "outputId": "c1099c6b-665b-4848-a625-2ebcb9e940df"
      },
      "source": [
        "dftrain.boxplot(by ='Comp_Name', column =['Price'], grid = False ,figsize=(23,5)) \n"
      ],
      "execution_count": null,
      "outputs": []
    },
    {
      "cell_type": "markdown",
      "metadata": {
        "id": "WfZa9rSGOlxl",
        "colab_type": "text"
      },
      "source": [
        "Observations from above three plots: \n",
        "1. Companies like Maruti and Hyundai produce a large amount of cars with prices on the cheaper side (mostly under 10 lakhs). \n",
        "2. Companies like Bentley and Lamborghini produce very few amount of cars but the prices are very high (approx 1.2 cr for Lamborghini and 60 lakhs for Bentley). \n",
        "3. Other companies like Land Rover, Jaguar and Porsche produce more cars compared to Lamborghini and Bentley but the prices remain high (for Land Rover as high as 1.6 cr , for Jaguar upto 1 cr and for Porsche upto 80 lakhs)\n",
        "\n",
        "Now, Let's analyse Locations."
      ]
    },
    {
      "cell_type": "code",
      "metadata": {
        "id": "0H0FYk4ON1X2",
        "colab_type": "code",
        "colab": {
          "base_uri": "https://localhost:8080/",
          "height": 335
        },
        "outputId": "be150b98-c457-442d-9ecd-b9ab42ee9355"
      },
      "source": [
        "dftrain['Location'].value_counts().plot(kind='bar')"
      ],
      "execution_count": null,
      "outputs": []
    },
    {
      "cell_type": "code",
      "metadata": {
        "id": "LMnRDeF7PU6f",
        "colab_type": "code",
        "colab": {
          "base_uri": "https://localhost:8080/",
          "height": 274
        },
        "outputId": "c75c7f4a-328f-4840-dfe6-6f47f7d6f607"
      },
      "source": [
        "dftrain.boxplot(by ='Location', column =['Price'], grid = False ,figsize=(23,5)) \n"
      ],
      "execution_count": null,
      "outputs": []
    },
    {
      "cell_type": "markdown",
      "metadata": {
        "id": "Zh5ozECIP43p",
        "colab_type": "text"
      },
      "source": [
        "Observations: \n",
        "1. Hyderabad and Mumbai produce the most amount of cars. \n",
        "2. Coimbatore and Banglore have the most expensive cars whereas Jaipur and Kolkata have the cheapest ones."
      ]
    },
    {
      "cell_type": "code",
      "metadata": {
        "id": "EjoqzoN5Pxhh",
        "colab_type": "code",
        "colab": {
          "base_uri": "https://localhost:8080/",
          "height": 311
        },
        "outputId": "7940cc14-c920-40d3-b836-b2ea90218b9a"
      },
      "source": [
        "dftrain['Fuel_Type'].value_counts().plot(kind='bar')"
      ],
      "execution_count": null,
      "outputs": []
    },
    {
      "cell_type": "code",
      "metadata": {
        "id": "qj93NqRfQJ4o",
        "colab_type": "code",
        "colab": {
          "base_uri": "https://localhost:8080/",
          "height": 284
        },
        "outputId": "bf5108b9-5728-407b-8728-c48c5e6b5797"
      },
      "source": [
        "plt.bar('Fuel_Type','Price',data=dftrain)"
      ],
      "execution_count": null,
      "outputs": []
    },
    {
      "cell_type": "code",
      "metadata": {
        "id": "Yec89gnFQWaX",
        "colab_type": "code",
        "colab": {
          "base_uri": "https://localhost:8080/",
          "height": 274
        },
        "outputId": "a42f534b-eb0b-436e-c8f5-b1fd837ed69e"
      },
      "source": [
        "dftrain.boxplot(by ='Fuel_Type', column =['Price'], grid = False ,figsize=(23,5)) \n"
      ],
      "execution_count": null,
      "outputs": []
    },
    {
      "cell_type": "markdown",
      "metadata": {
        "id": "AWsEqUyXQnQY",
        "colab_type": "text"
      },
      "source": [
        "Observations:\n",
        "1. Almost all cars are either Diesel or Petrol cars with number of Diesel cars slightly leading.\n",
        "2. Price of Diesel are the highest and LPG cars the cheapest."
      ]
    },
    {
      "cell_type": "code",
      "metadata": {
        "id": "3wRFD9bYQkyd",
        "colab_type": "code",
        "colab": {
          "base_uri": "https://localhost:8080/",
          "height": 325
        },
        "outputId": "e24492d1-0ad7-4f86-b64b-09dad2addaa2"
      },
      "source": [
        "dftrain['Transmission'].value_counts().plot(kind='bar')"
      ],
      "execution_count": null,
      "outputs": []
    },
    {
      "cell_type": "code",
      "metadata": {
        "id": "EOjpWYcGQydX",
        "colab_type": "code",
        "colab": {
          "base_uri": "https://localhost:8080/",
          "height": 284
        },
        "outputId": "4f35d7b2-68d3-473e-ba92-83e774eed021"
      },
      "source": [
        "plt.bar('Transmission','Price',data=dftrain)"
      ],
      "execution_count": null,
      "outputs": []
    },
    {
      "cell_type": "code",
      "metadata": {
        "id": "ioAwixWVRAYU",
        "colab_type": "code",
        "colab": {
          "base_uri": "https://localhost:8080/",
          "height": 380
        },
        "outputId": "80199a23-2692-4868-c9ac-fff4b62b486b"
      },
      "source": [
        "dftrain.boxplot(by ='Transmission', column =['Price'], grid = False ,figsize=(13,5)) \n"
      ],
      "execution_count": null,
      "outputs": []
    },
    {
      "cell_type": "markdown",
      "metadata": {
        "id": "SUswTyjzRFsI",
        "colab_type": "text"
      },
      "source": [
        "Observations: \n",
        "1. Manual cars are much larger in number than Automatic cars. \n",
        "2. Price of Automatic cars are much higher than Manual Cars."
      ]
    },
    {
      "cell_type": "code",
      "metadata": {
        "id": "82fiDlipRRQJ",
        "colab_type": "code",
        "colab": {
          "base_uri": "https://localhost:8080/",
          "height": 352
        },
        "outputId": "c61b0f8b-c5c6-434b-9f09-56fb27eb5477"
      },
      "source": [
        "dftrain['Owner_Type'].value_counts().plot(kind='bar')"
      ],
      "execution_count": null,
      "outputs": []
    },
    {
      "cell_type": "code",
      "metadata": {
        "id": "gq_Xq382RXJP",
        "colab_type": "code",
        "colab": {
          "base_uri": "https://localhost:8080/",
          "height": 284
        },
        "outputId": "9f014441-352a-4caa-b59f-b7b8775c1cfc"
      },
      "source": [
        "plt.bar('Owner_Type','Price',data=dftrain)"
      ],
      "execution_count": null,
      "outputs": []
    },
    {
      "cell_type": "code",
      "metadata": {
        "id": "a_Bh-S1SRbte",
        "colab_type": "code",
        "colab": {
          "base_uri": "https://localhost:8080/",
          "height": 381
        },
        "outputId": "88317448-acd9-4113-8030-6736f65d7629"
      },
      "source": [
        "dftrain.boxplot(by ='Owner_Type', column =['Price'], grid = False ,figsize=(13,5)) \n"
      ],
      "execution_count": null,
      "outputs": []
    },
    {
      "cell_type": "markdown",
      "metadata": {
        "id": "uNntlchLRkq1",
        "colab_type": "text"
      },
      "source": [
        "Observations: Most cars are first hand which are also the most expensive.\n",
        "\n",
        "Now, let's analyse Mileage."
      ]
    },
    {
      "cell_type": "code",
      "metadata": {
        "id": "12TJLMkOSaBc",
        "colab_type": "code",
        "colab": {
          "base_uri": "https://localhost:8080/",
          "height": 546
        },
        "outputId": "2059e832-5f28-4012-ee61-e3e4f27b8398"
      },
      "source": [
        "dftrain['Mileage'].value_counts().plot(kind='bar',figsize=(20,10))"
      ],
      "execution_count": null,
      "outputs": []
    },
    {
      "cell_type": "code",
      "metadata": {
        "id": "LPzJIy3CRgJb",
        "colab_type": "code",
        "colab": {
          "base_uri": "https://localhost:8080/",
          "height": 245
        },
        "outputId": "2c59cb55-eeff-4377-d2e7-4aec4d2c74ab"
      },
      "source": [
        "dftrain['Mileage']"
      ],
      "execution_count": null,
      "outputs": []
    },
    {
      "cell_type": "markdown",
      "metadata": {
        "id": "-ZFicWlyR6NF",
        "colab_type": "text"
      },
      "source": [
        "We can't make a definite conclusion from the above plot since Mileage is a numerical features stored as a categorial feature."
      ]
    },
    {
      "cell_type": "code",
      "metadata": {
        "id": "IsvuKSAIRzgf",
        "colab_type": "code",
        "colab": {
          "base_uri": "https://localhost:8080/",
          "height": 74
        },
        "outputId": "ec939f6d-18dd-4e37-dc40-9df6ebe91272"
      },
      "source": [
        "t=dftrain['Mileage'].str.split()\n",
        "mylg=t.str[0]\n",
        "mylgCount=t.str[1]\n",
        "mylgCount.value_counts()"
      ],
      "execution_count": null,
      "outputs": []
    },
    {
      "cell_type": "code",
      "metadata": {
        "id": "k2xr5PCcR-jp",
        "colab_type": "code",
        "colab": {
          "base_uri": "https://localhost:8080/",
          "height": 394
        },
        "outputId": "ca253f59-f796-4053-b1be-268f21b5ff71"
      },
      "source": [
        "dftrain.insert(column='Mileage_Num',value=mylg,loc=8)\n",
        "dftrain.head()"
      ],
      "execution_count": null,
      "outputs": []
    },
    {
      "cell_type": "code",
      "metadata": {
        "id": "qsV2d8LgSCCF",
        "colab_type": "code",
        "colab": {
          "base_uri": "https://localhost:8080/",
          "height": 419
        },
        "outputId": "0c87d9d9-3756-4d45-a5a2-fbce4f76004c"
      },
      "source": [
        "numF.insert(column='Mileage_Num',value=mylg,loc=3)\n",
        "numF"
      ],
      "execution_count": null,
      "outputs": []
    },
    {
      "cell_type": "markdown",
      "metadata": {
        "id": "x_3uubevSF5L",
        "colab_type": "text"
      },
      "source": [
        "Here, we have extracted Mileage_Num from Mileage and stored it as a numerical feature.\n",
        "\n",
        "We do the same thing with features Engine, Power."
      ]
    },
    {
      "cell_type": "code",
      "metadata": {
        "id": "YeA-hIAASybI",
        "colab_type": "code",
        "colab": {
          "base_uri": "https://localhost:8080/",
          "height": 531
        },
        "outputId": "05412a9b-8d62-4d6a-ea2a-501c0f3a9914"
      },
      "source": [
        "dftrain['Engine'].value_counts().plot(kind='bar',figsize=(20,10))"
      ],
      "execution_count": null,
      "outputs": []
    },
    {
      "cell_type": "code",
      "metadata": {
        "id": "tk-7ofAJSEd8",
        "colab_type": "code",
        "colab": {
          "base_uri": "https://localhost:8080/",
          "height": 245
        },
        "outputId": "ff40cefc-c928-4f25-ab4a-c89b81512032"
      },
      "source": [
        "dftrain['Engine']"
      ],
      "execution_count": null,
      "outputs": []
    },
    {
      "cell_type": "markdown",
      "metadata": {
        "id": "P_rj0osxTBTp",
        "colab_type": "text"
      },
      "source": [
        "We can't make a definite conclusion from the above plot since Mileage is a numerical features stored as a categorial feature."
      ]
    },
    {
      "cell_type": "code",
      "metadata": {
        "id": "YpNEOqKFSKQH",
        "colab_type": "code",
        "colab": {}
      },
      "source": [
        "t=dftrain['Engine'].str.split()\n",
        "engNum=t.str[0]\n",
        "dftrain.insert(column='Engine_Num',value=engNum,loc=10)\n",
        "numF.insert(column='Engine_Num',value=engNum,loc=4)"
      ],
      "execution_count": null,
      "outputs": []
    },
    {
      "cell_type": "code",
      "metadata": {
        "id": "Qtf1F_6lS7vL",
        "colab_type": "code",
        "colab": {
          "base_uri": "https://localhost:8080/",
          "height": 394
        },
        "outputId": "bd97e921-0481-4d6f-8a01-5f5f3ed2af03"
      },
      "source": [
        "dftrain.head()"
      ],
      "execution_count": null,
      "outputs": []
    },
    {
      "cell_type": "code",
      "metadata": {
        "id": "grebVHBSTOFs",
        "colab_type": "code",
        "colab": {
          "base_uri": "https://localhost:8080/",
          "height": 204
        },
        "outputId": "39cc9871-5eb9-4e4a-8691-9df4bfc21de5"
      },
      "source": [
        "numF.head()"
      ],
      "execution_count": null,
      "outputs": []
    },
    {
      "cell_type": "code",
      "metadata": {
        "id": "LOI6T-GsVZO1",
        "colab_type": "code",
        "colab": {
          "base_uri": "https://localhost:8080/",
          "height": 547
        },
        "outputId": "64068d5b-b44c-4798-f9fe-a44f67e19cca"
      },
      "source": [
        "dftrain['Power'].value_counts().plot(kind='bar',figsize=(20,10))"
      ],
      "execution_count": null,
      "outputs": []
    },
    {
      "cell_type": "code",
      "metadata": {
        "id": "5L0xNFt0XK2m",
        "colab_type": "code",
        "colab": {
          "base_uri": "https://localhost:8080/",
          "height": 245
        },
        "outputId": "1cd795a8-4eef-4dc8-f56e-d0a37ca56050"
      },
      "source": [
        "dftrain['Power']"
      ],
      "execution_count": null,
      "outputs": []
    },
    {
      "cell_type": "code",
      "metadata": {
        "id": "EnXktb9ZXN7Z",
        "colab_type": "code",
        "colab": {}
      },
      "source": [
        "t=dftrain['Power'].str.split()\n",
        "power=t.str[0]\n",
        "dftrain.insert(column='Power_Num',value=power,loc=12)\n",
        "numF.insert(column='Power_Num',value=power,loc=5)"
      ],
      "execution_count": null,
      "outputs": []
    },
    {
      "cell_type": "code",
      "metadata": {
        "id": "m0E1sC59XW4L",
        "colab_type": "code",
        "colab": {
          "base_uri": "https://localhost:8080/",
          "height": 394
        },
        "outputId": "04e13eef-5f76-4639-9fda-c5107b66d4d5"
      },
      "source": [
        "dftrain.head()"
      ],
      "execution_count": null,
      "outputs": []
    },
    {
      "cell_type": "code",
      "metadata": {
        "id": "mV_j4PbeXZo4",
        "colab_type": "code",
        "colab": {
          "base_uri": "https://localhost:8080/",
          "height": 204
        },
        "outputId": "d1b70c28-be65-4fe0-cba1-e4592910ead9"
      },
      "source": [
        "numF.head()"
      ],
      "execution_count": null,
      "outputs": []
    },
    {
      "cell_type": "code",
      "metadata": {
        "id": "hvXs0j2KXbRL",
        "colab_type": "code",
        "colab": {
          "base_uri": "https://localhost:8080/",
          "height": 340
        },
        "outputId": "f03f4b14-c82b-4e5f-e850-eea291fdfc9b"
      },
      "source": [
        "dftrain.isnull().sum()"
      ],
      "execution_count": null,
      "outputs": []
    },
    {
      "cell_type": "code",
      "metadata": {
        "id": "xb1seRH7XjHp",
        "colab_type": "code",
        "colab": {}
      },
      "source": [
        "dftrain=dftrain.fillna(0)\n",
        "numF=numF.fillna(0)"
      ],
      "execution_count": null,
      "outputs": []
    },
    {
      "cell_type": "code",
      "metadata": {
        "id": "N_rSy7icYtFW",
        "colab_type": "code",
        "colab": {
          "base_uri": "https://localhost:8080/",
          "height": 340
        },
        "outputId": "0c46a016-7926-4bbb-d907-85892dfa4e0f"
      },
      "source": [
        "dftrain.isnull().sum()"
      ],
      "execution_count": null,
      "outputs": []
    },
    {
      "cell_type": "markdown",
      "metadata": {
        "id": "3Owd5yWiYyJa",
        "colab_type": "text"
      },
      "source": [
        "The numerical features extracted from the categorical features are still stored as strings, so we'll convert them to float values."
      ]
    },
    {
      "cell_type": "code",
      "metadata": {
        "id": "nnrA_hSPYvBb",
        "colab_type": "code",
        "colab": {}
      },
      "source": [
        "dftrain['Mileage_Num']=dftrain['Mileage_Num'].astype(float)\n",
        "dftrain['Engine_Num']=dftrain['Engine_Num'].astype(float)"
      ],
      "execution_count": null,
      "outputs": []
    },
    {
      "cell_type": "markdown",
      "metadata": {
        "id": "MSqQsze7ZAjC",
        "colab_type": "text"
      },
      "source": [
        "You can notice that one of the above line is commented. when we uncomment that line following error is displayed: ValueError: could not convert string to float: 'null' So, let's try to fix that.\n",
        "\n",
        "For that, we'll first see which columns have the 'null' values. And then, equate them to 0."
      ]
    },
    {
      "cell_type": "code",
      "metadata": {
        "id": "yLyOWEC_Y89k",
        "colab_type": "code",
        "colab": {
          "base_uri": "https://localhost:8080/",
          "height": 881
        },
        "outputId": "e494ea9f-5acb-41dd-eaee-b450279bf41e"
      },
      "source": [
        "dftrain.loc[dftrain['Power_Num']=='null']"
      ],
      "execution_count": null,
      "outputs": []
    },
    {
      "cell_type": "code",
      "metadata": {
        "id": "Ha9z6jLDZEMe",
        "colab_type": "code",
        "colab": {
          "base_uri": "https://localhost:8080/",
          "height": 419
        },
        "outputId": "4880ef98-95a4-44d2-c353-b72e06180398"
      },
      "source": [
        "numF.loc[numF['Power_Num']=='null']"
      ],
      "execution_count": null,
      "outputs": []
    },
    {
      "cell_type": "code",
      "metadata": {
        "id": "D9LoJjnuZHyo",
        "colab_type": "code",
        "colab": {
          "base_uri": "https://localhost:8080/",
          "height": 69
        },
        "outputId": "555696ac-9cbc-4115-834e-cb982865ad0d"
      },
      "source": [
        "dftrain.loc[dftrain['Power_Num']=='null','Power_Num']=0\n",
        "numF.loc[numF['Power_Num']=='null','Power_Num']=0\n",
        "dftrain.loc[dftrain['Power_Num']=='null']"
      ],
      "execution_count": null,
      "outputs": []
    },
    {
      "cell_type": "code",
      "metadata": {
        "id": "ENy7fWm1ZQzg",
        "colab_type": "code",
        "colab": {
          "base_uri": "https://localhost:8080/",
          "height": 49
        },
        "outputId": "eea39b4d-ae25-4983-eccf-7f145aff6fa7"
      },
      "source": [
        "numF.loc[numF['Power_Num']=='null']"
      ],
      "execution_count": null,
      "outputs": []
    },
    {
      "cell_type": "code",
      "metadata": {
        "id": "V-QwDXncZVPG",
        "colab_type": "code",
        "colab": {}
      },
      "source": [
        "dftrain['Power_Num']=dftrain['Power_Num'].astype(float)"
      ],
      "execution_count": null,
      "outputs": []
    },
    {
      "cell_type": "code",
      "metadata": {
        "id": "CqVEuht4ZXTU",
        "colab_type": "code",
        "colab": {
          "base_uri": "https://localhost:8080/",
          "height": 1000
        },
        "outputId": "caa0dd8b-818e-497b-982a-61e05c72a695"
      },
      "source": [
        "dftrain['Power_Num'].unique()"
      ],
      "execution_count": null,
      "outputs": []
    },
    {
      "cell_type": "code",
      "metadata": {
        "id": "VqShz5moZhjR",
        "colab_type": "code",
        "colab": {
          "base_uri": "https://localhost:8080/",
          "height": 394
        },
        "outputId": "8d23c4b4-3782-4f28-e80f-a96597bc5124"
      },
      "source": [
        "dftrain.head()"
      ],
      "execution_count": null,
      "outputs": []
    },
    {
      "cell_type": "code",
      "metadata": {
        "id": "hnZqs1dRZkhx",
        "colab_type": "code",
        "colab": {
          "base_uri": "https://localhost:8080/",
          "height": 204
        },
        "outputId": "9cc1c07d-85d5-455a-a600-b079831d0ec3"
      },
      "source": [
        "numF.head()"
      ],
      "execution_count": null,
      "outputs": []
    },
    {
      "cell_type": "markdown",
      "metadata": {
        "id": "yme9-49uZpC8",
        "colab_type": "text"
      },
      "source": [
        "### Numerical Data Analysis\n",
        "Let's check the corelation between various features of the dataset."
      ]
    },
    {
      "cell_type": "code",
      "metadata": {
        "id": "vbrIB7CBZmR0",
        "colab_type": "code",
        "colab": {
          "base_uri": "https://localhost:8080/",
          "height": 266
        },
        "outputId": "f683dd0a-b450-4f85-a871-5f5c4a5ef689"
      },
      "source": [
        "dftrain.corr()"
      ],
      "execution_count": null,
      "outputs": []
    },
    {
      "cell_type": "code",
      "metadata": {
        "id": "BUHtfkPGZuXg",
        "colab_type": "code",
        "colab": {
          "base_uri": "https://localhost:8080/",
          "height": 370
        },
        "outputId": "77674f19-7560-4908-d8f2-a87507357352"
      },
      "source": [
        "sns.heatmap(dftrain.corr())"
      ],
      "execution_count": null,
      "outputs": []
    },
    {
      "cell_type": "code",
      "metadata": {
        "id": "rNoEvWDRZwOP",
        "colab_type": "code",
        "colab": {
          "base_uri": "https://localhost:8080/",
          "height": 978
        },
        "outputId": "c69fb803-d5a2-48c9-ae3a-bb588e7c34c0"
      },
      "source": [
        "sns.pairplot(dftrain,diag_kind='kde',kind='scatter')"
      ],
      "execution_count": null,
      "outputs": []
    },
    {
      "cell_type": "markdown",
      "metadata": {
        "id": "WeQriS1uZ6Da",
        "colab_type": "text"
      },
      "source": [
        "Observations: \n",
        "1. Year by year, cars are becoming more expensive. \n",
        "2. More is the power, better is the engine and more expensive is the car.\n",
        "\n",
        "Now, let's analyse our target feature 'Price' and its relationship with all other numerical features."
      ]
    },
    {
      "cell_type": "code",
      "metadata": {
        "id": "1vrxjVUeZz7v",
        "colab_type": "code",
        "colab": {
          "base_uri": "https://localhost:8080/",
          "height": 298
        },
        "outputId": "53934eb4-7ba9-41c0-dd7c-d2e41c544e1d"
      },
      "source": [
        "sns.distplot(dftrain['Price'])"
      ],
      "execution_count": null,
      "outputs": []
    },
    {
      "cell_type": "code",
      "metadata": {
        "id": "MbjTtHTNZ_7V",
        "colab_type": "code",
        "colab": {
          "base_uri": "https://localhost:8080/",
          "height": 460
        },
        "outputId": "0830ec25-f454-4c9b-8866-9f31bd3dca17"
      },
      "source": [
        "sns.jointplot(x='Power_Num',y='Price',data=dftrain,kind='reg')"
      ],
      "execution_count": null,
      "outputs": []
    },
    {
      "cell_type": "code",
      "metadata": {
        "id": "iafKJVnNaCYi",
        "colab_type": "code",
        "colab": {
          "base_uri": "https://localhost:8080/",
          "height": 460
        },
        "outputId": "332f259f-c2ff-4e06-fb5d-caae545e1449"
      },
      "source": [
        "sns.jointplot('Engine_Num','Price',data=dftrain,kind='reg')"
      ],
      "execution_count": null,
      "outputs": []
    },
    {
      "cell_type": "code",
      "metadata": {
        "id": "BDHoTiGKaFFh",
        "colab_type": "code",
        "colab": {}
      },
      "source": [
        ""
      ],
      "execution_count": null,
      "outputs": []
    },
    {
      "cell_type": "code",
      "metadata": {
        "id": "0y5PIny_aHY0",
        "colab_type": "code",
        "colab": {
          "base_uri": "https://localhost:8080/",
          "height": 460
        },
        "outputId": "de0c406c-6ec4-41fc-b5b4-ef22b9504461"
      },
      "source": [
        "sns.jointplot('Year','Price',data=dftrain,kind='reg')"
      ],
      "execution_count": null,
      "outputs": []
    },
    {
      "cell_type": "code",
      "metadata": {
        "id": "yxzjYHzAaJpn",
        "colab_type": "code",
        "colab": {
          "base_uri": "https://localhost:8080/",
          "height": 460
        },
        "outputId": "e80b256b-29f8-4591-cd38-72d9717b3ce0"
      },
      "source": [
        "sns.jointplot('Mileage_Num','Price',data=dftrain,kind='reg')"
      ],
      "execution_count": null,
      "outputs": []
    },
    {
      "cell_type": "code",
      "metadata": {
        "id": "XRCxTHTraMpY",
        "colab_type": "code",
        "colab": {
          "base_uri": "https://localhost:8080/",
          "height": 460
        },
        "outputId": "837a483b-e90e-48e6-d0e4-92b4958019c8"
      },
      "source": [
        "sns.jointplot('Seats','Price',data=dftrain,kind='reg')"
      ],
      "execution_count": null,
      "outputs": []
    },
    {
      "cell_type": "code",
      "metadata": {
        "id": "wH2vHPv7aPoX",
        "colab_type": "code",
        "colab": {
          "base_uri": "https://localhost:8080/",
          "height": 471
        },
        "outputId": "fbbf1a67-98a7-4941-ccab-b5281fa64f96"
      },
      "source": [
        "sns.jointplot('Kilometers_Driven','Price',data=dftrain,kind='reg')"
      ],
      "execution_count": null,
      "outputs": []
    },
    {
      "cell_type": "markdown",
      "metadata": {
        "id": "4LHjTXb4bf7K",
        "colab_type": "text"
      },
      "source": [
        "Now,preparing our categorical features to be inserted into the LGBMRegressor model."
      ]
    },
    {
      "cell_type": "code",
      "execution_count": null,
      "metadata": {},
      "outputs": [],
      "source": [
        "df_test = pd.read_excel('/home/jainish/Downloads/Data_Test (1).xlsx')"
      ]
    },
    {
      "cell_type": "code",
      "execution_count": null,
      "metadata": {},
      "outputs": [],
      "source": [
        "df_train.shape, df_test.shape"
      ]
    },
    {
      "cell_type": "code",
      "execution_count": null,
      "metadata": {},
      "outputs": [],
      "source": [
        "df_train.duplicated().sum(), df_test.duplicated().sum()"
      ]
    },
    {
      "cell_type": "markdown",
      "metadata": {},
      "source": [
        "Now, Removing unwanted data from data set."
      ]
    },
    {
      "cell_type": "code",
      "execution_count": null,
      "metadata": {},
      "outputs": [],
      "source": [
        "df_train = df_train[df_train['Kilometers_Driven'] < 700000]\n",
        "df_train = df_train[df_train['Kilometers_Driven'] > 999]\n",
        "df_train = df_train[df_train['Fuel_Type'] != 'Electric']\n",
        "df_train = df_train[df_train['Name'] != 'Ambassador Classic Nova Diesel']\n",
        "df_train = df_train[df_train['Name'] != 'Lamborghini Gallardo Coupe']\n",
        "df_train = df_train[df_train['Name'] != 'Force One LX 4x4']\n",
        "df_train = df_train[df_train['Name'] != 'Force One LX ABS 7 Seating']\n",
        "df_train = df_train[df_train['Name'] != 'Smart Fortwo CDI AT']"
      ]
    },
    {
      "cell_type": "code",
      "execution_count": null,
      "metadata": {},
      "outputs": [],
      "source": [
        "df = df_train.append(df_test, ignore_index=True, sort=False)"
      ]
    },
    {
      "cell_type": "code",
      "execution_count": null,
      "metadata": {},
      "outputs": [],
      "source": [
        "df['Car_Age'] = 2019 - df['Year']"
      ]
    },
    {
      "cell_type": "code",
      "execution_count": null,
      "metadata": {},
      "outputs": [],
      "source": [
        "\n",
        "df['Mileage'] = df['Mileage'].apply(lambda x : str(x).split(' ')[0]).astype(float)\n",
        "df['Engine'] = df['Engine'].apply(lambda x : str(x).split(\" \")[0]).astype(float)\n",
        "df['Power'] = df['Power'].replace('null bhp','0 bhp').apply(lambda x : str(x).split(' ')[0]).astype(float)\n",
        "df['Seats'] = df['Seats'].fillna(5)\n",
        "df['Year'] = df['Year'].astype('category')\n",
        "df['Location'] = df['Location'].astype('category')\n",
        "df['Fuel_Type'] = df['Fuel_Type'].astype('category')\n",
        "df['Transmission'] = df['Transmission'].astype('category')\n",
        "df['Owner_Type'] = df['Owner_Type'].astype('category')\n",
        "df['Car_Comp_Name'] = df['Name'].apply(lambda x: ' '.join(x.split(' ')[:2]))\n",
        "df['Engine'] = df.groupby(['Car_Comp_Name']).transform(lambda x: x.fillna(x.median()))['Engine']\n",
        "df['Power'] = df.groupby(['Car_Comp_Name']).transform(lambda x: x.fillna(x.median()))['Power']\n",
        "df['Car_Brand'] = df['Name'].apply(lambda x: x.split(' ')[0])\n"
      ]
    },
    {
      "cell_type": "code",
      "execution_count": null,
      "metadata": {},
      "outputs": [],
      "source": [
        "agg_func = {\n",
        "        'Location' : ['count'],\n",
        "        'Mileage' : ['mean'],\n",
        "        'Power' : ['mean'],\n",
        "        'Engine' : ['mean'] }\n",
        "    \n",
        "agg_df = df.groupby(['Car_Comp_Name']).agg(agg_func)\n",
        "agg_df.columns = ['_'.join(col).strip() for col in agg_df.columns.values]\n",
        "agg_df.reset_index(inplace=True)\n",
        "    \n",
        "df = pd.merge(df, agg_df, on='Car_Comp_Name', how='left')"
      ]
    },
    {
      "cell_type": "code",
      "execution_count": null,
      "metadata": {},
      "outputs": [],
      "source": [
        "df.drop(['Name','Car_Comp_Name','Car_Brand'], axis=1, inplace=True)\n",
        "train_df = df[df['Price'].isnull()!=True]\n",
        "test_df = df[df['Price'].isnull()==True]\n",
        "test_df.drop('Price', axis=1, inplace=True)\n",
        "train_df.shape, test_df.shape"
      ]
    },
    {
      "cell_type": "code",
      "execution_count": null,
      "metadata": {
        "tags": []
      },
      "outputs": [],
      "source": [
        "train_df['Price'] = np.log1p(train_df['Price'])\n",
        "X = train_df.drop(labels=['Price'], axis=1)\n",
        "y = train_df['Price'].values"
      ]
    },
    {
      "cell_type": "markdown",
      "metadata": {},
      "source": [
        "Split dataset into random train and test subsets using train_test_split model."
      ]
    },
    {
      "cell_type": "code",
      "execution_count": null,
      "metadata": {},
      "outputs": [],
      "source": [
        "from sklearn.model_selection import train_test_split\n",
        "X_train, X_cv, y_train, y_cv = train_test_split(X, y, test_size=0.25, random_state=1)\n",
        "X_train.shape, y_train.shape, X_cv.shape, y_cv.shape"
      ]
    },
    {
      "cell_type": "code",
      "execution_count": null,
      "metadata": {},
      "outputs": [],
      "source": [
        "from math import sqrt \n",
        "from sklearn.metrics import mean_squared_log_error"
      ]
    },
    {
      "cell_type": "markdown",
      "metadata": {},
      "source": [
        "Light GBM is a fast, distributed, high-performance gradient boosting framework based on decision tree algorithm, used for ranking, classification and many other machine learning tasks"
      ]
    },
    {
      "cell_type": "code",
      "execution_count": null,
      "metadata": {
        "tags": []
      },
      "outputs": [],
      "source": [
        "import lightgbm as lgb\n",
        "train_data = lgb.Dataset(X_train, label=y_train)\n",
        "test_data = lgb.Dataset(X_cv, label=y_cv)\n",
        "\n",
        "param = {'objective': 'regression',\n",
        "         'boosting': 'gbdt',  \n",
        "         'metric': 'l2_root',\n",
        "         'learning_rate': 0.05, \n",
        "         'num_iterations': 1000,\n",
        "         'num_leaves': 30,\n",
        "         'max_depth': -1,\n",
        "         'min_data_in_leaf': 4,\n",
        "         'bagging_fraction': 0.78,\n",
        "         'bagging_freq': 1,\n",
        "         'feature_fraction': 0.65,\n",
        "         }\n",
        "\n",
        "lgbm = lgb.train(params=param,\n",
        "                 verbose_eval=100,\n",
        "                 early_stopping_rounds=50,\n",
        "                 train_set=train_data,\n",
        "                 valid_sets=[test_data])\n",
        "\n",
        "y_pred_lgbm = lgbm.predict(X_cv)\n",
        "print('RMSLE:', sqrt(mean_squared_log_error(np.expm1(y_cv), np.expm1(y_pred_lgbm))))"
      ]
    },
    {
      "cell_type": "markdown",
      "metadata": {},
      "source": [
        "Showning above Root Mean Squared Logarithmic Error"
      ]
    },
    {
      "cell_type": "code",
      "execution_count": null,
      "metadata": {},
      "outputs": [],
      "source": [
        "feature_imp = pd.DataFrame(sorted(zip(lgbm.feature_importance(), X.columns), reverse=True)[:15], \n",
        "                           columns=['Value','Feature'])\n",
        "plt.figure(figsize=(20, 10))\n",
        "sns.barplot(x=\"Value\", y=\"Feature\", data=feature_imp.sort_values(by=\"Value\", ascending=False))\n",
        "plt.title('LightGBM Features')\n",
        "plt.tight_layout()\n",
        "plt.show()"
      ]
    },
    {
      "cell_type": "code",
      "execution_count": null,
      "metadata": {},
      "outputs": [],
      "source": [
        "Xtest = test_df"
      ]
    },
    {
      "cell_type": "markdown",
      "metadata": {},
      "source": [
        "LGBMRegressor Model"
      ]
    },
    {
      "cell_type": "code",
      "execution_count": null,
      "metadata": {
        "tags": []
      },
      "outputs": [],
      "source": [
        "from sklearn.model_selection import KFold\n",
        "from lightgbm import LGBMRegressor\n",
        "from sklearn.metrics import r2_score\n",
        "from sklearn.metrics import mean_squared_error\n",
        "from math import sqrt\n",
        "\n",
        "errlgb = []\n",
        "errr2=[]\n",
        "y_pred_totlgb = []\n",
        "\n",
        "fold = KFold(n_splits=15, shuffle=True, random_state=42)\n",
        "\n",
        "for train_index, test_index in fold.split(X):\n",
        "    X_train, X_test = X.loc[train_index], X.loc[test_index]\n",
        "    y_train, y_test = y[train_index], y[test_index]\n",
        "\n",
        "    param = {'objective': 'regression',\n",
        "         'boosting': 'gbdt',  \n",
        "         'metric': 'l2_root',\n",
        "         'learning_rate': 0.05, \n",
        "         'num_iterations': 1000,\n",
        "         'num_leaves': 30,\n",
        "         'max_depth': -1,\n",
        "         'min_data_in_leaf': 4,\n",
        "         'bagging_fraction': 0.78,\n",
        "         'bagging_freq': 1,\n",
        "         'feature_fraction': 0.65\n",
        "         }\n",
        "\n",
        "    lgbm = LGBMRegressor(**param)\n",
        "    lgbm.fit(X_train, y_train, eval_set=[(X_test, y_test)], verbose=0, early_stopping_rounds=50)\n",
        "\n",
        "    y_pred_lgbm = lgbm.predict(X_test)\n",
        "    rmsle=sqrt(mean_squared_log_error(np.expm1(y_test), np.expm1(y_pred_lgbm)))\n",
        "    r2score=r2_score(y_test, y_pred_lgbm)\n",
        "    print(\"RMSLE LGBM: \", rmsle,\"\\tR2 Score:\",r2score)\n",
        "    errlgb.append(rmsle)\n",
        "    errr2.append(r2score)\n",
        "    p = lgbm.predict(Xtest)\n",
        "    \n",
        "    y_pred_totlgb.append(p)"
      ]
    },
    {
      "cell_type": "markdown",
      "metadata": {},
      "source": [
        "Showing RMSLE and R2 Score"
      ]
    },
    {
      "cell_type": "code",
      "execution_count": null,
      "metadata": {
        "tags": []
      },
      "outputs": [],
      "source": [
        "print(\"RMSLE: \",np.mean(errlgb) ,\"\\tR2: \" ,np.mean(errr2))"
      ]
    },
    {
      "cell_type": "code",
      "execution_count": null,
      "metadata": {},
      "outputs": [],
      "source": [
        "lgbm_final = np.expm1(np.mean(y_pred_totlgb,0))"
      ]
    },
    {
      "cell_type": "code",
      "execution_count": null,
      "metadata": {},
      "outputs": [],
      "source": [
        "df_sub = pd.DataFrame(data=lgbm_final, columns=['Price'])\n",
        "writer = pd.ExcelWriter('Output.xlsx', engine='xlsxwriter')\n",
        "df_sub.to_excel(writer,sheet_name='Sheet', index=False)\n",
        "writer.save()"
      ]
    },
    {
      "cell_type": "code",
      "execution_count": null,
      "metadata": {},
      "outputs": [],
      "source": [
        "df_sub.shape"
      ]
    },
    {
      "cell_type": "code",
      "execution_count": null,
      "metadata": {},
      "outputs": [],
      "source": [
        "df_sub.head()"
      ]
    },
    {
      "cell_type": "code",
      "execution_count": null,
      "metadata": {},
      "outputs": [],
      "source": []
    }
  ],
  "metadata": {
    "colab": {
      "name": "major_project.ipynb",
      "provenance": []
    },
    "kernelspec": {
      "name": "python3",
      "display_name": "Python 3"
    }
  },
  "nbformat": 4,
  "nbformat_minor": 0
}